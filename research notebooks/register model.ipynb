{
 "cells": [
  {
   "cell_type": "code",
   "execution_count": 1,
   "id": "55a22537",
   "metadata": {},
   "outputs": [],
   "source": [
    "import mlflow\n",
    "from mlflow import MlflowClient\n",
    "import pandas as pd\n",
    "import xgboost as xgb\n",
    "import sklearn\n",
    "from sklearn.preprocessing import MinMaxScaler\n",
    "from sklearn.model_selection import train_test_split\n",
    "from sklearn.linear_model import LogisticRegression\n",
    "from sklearn.ensemble import RandomForestClassifier\n",
    "from sklearn.ensemble import AdaBoostClassifier\n",
    "from sklearn.model_selection import GridSearchCV\n",
    "from sklearn.svm import SVC\n",
    "from sklearn import metrics\n",
    "import pickle"
   ]
  },
  {
   "cell_type": "code",
   "execution_count": 2,
   "id": "d2376715",
   "metadata": {
    "scrolled": true,
    "tags": []
   },
   "outputs": [
    {
     "data": {
      "text/plain": [
       "<Experiment: artifact_location='gs://mlflow-zoomcamp-bucket/mlruns/1', creation_time=1692174508631, experiment_id='1', last_update_time=1692174508631, lifecycle_stage='active', name='telco-customers-churn', tags={}>"
      ]
     },
     "execution_count": 2,
     "metadata": {},
     "output_type": "execute_result"
    }
   ],
   "source": [
    "TRACKING_SERVER_HOST = \"35.217.20.109\"\n",
    "# mlflow.set_tracking_uri(\"app/sqlite:///mlflow.db\")\n",
    "\n",
    "mlflow.set_tracking_uri(f\"http://{TRACKING_SERVER_HOST}:5000\")\n",
    "mlflow.set_experiment(\"telco-customers-churn\")"
   ]
  },
  {
   "cell_type": "code",
   "execution_count": 8,
   "id": "714166c1",
   "metadata": {},
   "outputs": [
    {
     "data": {
      "text/plain": [
       "'http://35.217.20.109:5000'"
      ]
     },
     "execution_count": 8,
     "metadata": {},
     "output_type": "execute_result"
    }
   ],
   "source": [
    "f\"http://{TRACKING_SERVER_HOST}:5000\""
   ]
  },
  {
   "cell_type": "code",
   "execution_count": 3,
   "id": "a553a08f",
   "metadata": {},
   "outputs": [],
   "source": [
    "client = MlflowClient()"
   ]
  },
  {
   "cell_type": "code",
   "execution_count": 5,
   "id": "fb3efe6d",
   "metadata": {},
   "outputs": [],
   "source": [
    "experiment = mlflow.get_experiment_by_name(\"telco-customers-churn\")\n",
    "runs = mlflow.search_runs(experiment.experiment_id)\n",
    "best_run = runs.loc[runs['metrics.test_f1_score'].idxmax()]"
   ]
  },
  {
   "cell_type": "code",
   "execution_count": 6,
   "id": "45f595d7",
   "metadata": {},
   "outputs": [
    {
     "data": {
      "text/plain": [
       "'runs:/a22fd2ebe68e4a6698560b2ceee2bea9/model'"
      ]
     },
     "execution_count": 6,
     "metadata": {},
     "output_type": "execute_result"
    }
   ],
   "source": [
    "model_uri = f\"runs:/{best_run.run_id}/model\"\n",
    "model_uri"
   ]
  },
  {
   "cell_type": "code",
   "execution_count": 7,
   "id": "9be57805",
   "metadata": {},
   "outputs": [
    {
     "data": {
      "text/plain": [
       "mlflow.pyfunc.loaded_model:\n",
       "  artifact_path: model\n",
       "  flavor: mlflow.lightgbm\n",
       "  run_id: a22fd2ebe68e4a6698560b2ceee2bea9"
      ]
     },
     "execution_count": 7,
     "metadata": {},
     "output_type": "execute_result"
    }
   ],
   "source": [
    "# Load the best model using the MLflow API\n",
    "model_pyfunc = mlflow.pyfunc.load_model(model_uri)\n",
    "model_pyfunc"
   ]
  },
  {
   "cell_type": "code",
   "execution_count": 8,
   "id": "acffe549",
   "metadata": {},
   "outputs": [],
   "source": [
    "df = pd.read_csv(\"data/test.csv\")"
   ]
  },
  {
   "cell_type": "code",
   "execution_count": 9,
   "id": "148ee473-771d-4e68-ad90-f3ab675b8241",
   "metadata": {},
   "outputs": [],
   "source": [
    "num_features = [\"tenure\", \"MonthlyCharges\", \"TotalCharges\"]\n",
    "cat_features = [\n",
    "     'gender',\n",
    "     'SeniorCitizen',\n",
    "     'Partner',\n",
    "     'Dependents',\n",
    "     'PhoneService',\n",
    "     'MultipleLines',\n",
    "     'InternetService',\n",
    "     'OnlineSecurity',\n",
    "     'OnlineBackup',\n",
    "     'DeviceProtection',\n",
    "     'TechSupport',\n",
    "     'StreamingTV',\n",
    "     'StreamingMovies',\n",
    "     'Contract',\n",
    "     'PaperlessBilling',\n",
    "     'PaymentMethod'\n",
    "               ]"
   ]
  },
  {
   "cell_type": "code",
   "execution_count": 10,
   "id": "2e2300c5-4d23-430a-b515-d2686430ba40",
   "metadata": {},
   "outputs": [],
   "source": [
    "with open(\"app/models/min_max_scaler.bin\", \"rb\") as f:\n",
    "    scaler = pickle.load(f)\n",
    "    \n",
    "with open(\"app/models/ohe.bin\", \"rb\") as f:\n",
    "    ohe = pickle.load(f)\n",
    "\n",
    "def prepare_features(df):\n",
    "    df.TotalCharges = pd.to_numeric(df.TotalCharges, errors='coerce')\n",
    "    df = df.iloc[:,1:]\n",
    "    df = df.dropna()\n",
    "    df = df.reset_index(drop=True)\n",
    "\n",
    "    df['Churn'] = df['Churn'].replace(to_replace='Yes', value=1)\n",
    "    df['Churn'] = df['Churn'].replace(to_replace='No',  value=0)\n",
    "\n",
    "    df_dummies = ohe.fit_transform(df[cat_features])\n",
    "    X = pd.DataFrame(df_dummies, columns=ohe.get_feature_names_out())\n",
    "    X = pd.concat([X, df[num_features]], axis=1)\n",
    "    \n",
    "    features = X.columns.values\n",
    "    scaler = MinMaxScaler(feature_range = (0,1))\n",
    "    \n",
    "    X = pd.DataFrame(scaler.fit_transform(X))\n",
    "    X.columns = features\n",
    "    return X, df.Churn.values"
   ]
  },
  {
   "cell_type": "code",
   "execution_count": 11,
   "id": "eafa54f9",
   "metadata": {},
   "outputs": [],
   "source": [
    "X, y = prepare_features(df)"
   ]
  },
  {
   "cell_type": "code",
   "execution_count": 12,
   "id": "f506eac3",
   "metadata": {},
   "outputs": [],
   "source": [
    "preds = model_pyfunc.predict(X)"
   ]
  },
  {
   "cell_type": "code",
   "execution_count": 13,
   "id": "910895c1",
   "metadata": {},
   "outputs": [
    {
     "data": {
      "text/plain": [
       "0.5583333333333335"
      ]
     },
     "execution_count": 13,
     "metadata": {},
     "output_type": "execute_result"
    }
   ],
   "source": [
    "metrics.f1_score(y, preds)"
   ]
  },
  {
   "cell_type": "code",
   "execution_count": 5,
   "id": "650c187d",
   "metadata": {},
   "outputs": [],
   "source": [
    "model_name = 'churn_model'\n"
   ]
  },
  {
   "cell_type": "code",
   "execution_count": 14,
   "id": "84cfa35e",
   "metadata": {},
   "outputs": [
    {
     "name": "stderr",
     "output_type": "stream",
     "text": [
      "Successfully registered model 'churn_model'.\n",
      "2023/08/16 12:13:40 INFO mlflow.tracking._model_registry.client: Waiting up to 300 seconds for model version to finish creation. Model name: churn_model, version 1\n",
      "Created version '1' of model 'churn_model'.\n"
     ]
    },
    {
     "data": {
      "text/plain": [
       "<ModelVersion: aliases=[], creation_timestamp=1692188020334, current_stage='None', description='', last_updated_timestamp=1692188020334, name='churn_model', run_id='a22fd2ebe68e4a6698560b2ceee2bea9', run_link='', source='gs://mlflow-zoomcamp-bucket/mlruns/1/a22fd2ebe68e4a6698560b2ceee2bea9/artifacts/model', status='READY', status_message='', tags={}, user_id='', version='1'>"
      ]
     },
     "execution_count": 14,
     "metadata": {},
     "output_type": "execute_result"
    }
   ],
   "source": [
    "\n",
    "# Register model\n",
    "mlflow.register_model(model_uri, model_name)"
   ]
  },
  {
   "cell_type": "code",
   "execution_count": 15,
   "id": "703249c8",
   "metadata": {},
   "outputs": [
    {
     "data": {
      "text/plain": [
       "<ModelVersion: aliases=[], creation_timestamp=1692188020334, current_stage='Production', description='', last_updated_timestamp=1692188031702, name='churn_model', run_id='a22fd2ebe68e4a6698560b2ceee2bea9', run_link='', source='gs://mlflow-zoomcamp-bucket/mlruns/1/a22fd2ebe68e4a6698560b2ceee2bea9/artifacts/model', status='READY', status_message='', tags={}, user_id='', version='1'>"
      ]
     },
     "execution_count": 15,
     "metadata": {},
     "output_type": "execute_result"
    }
   ],
   "source": [
    "client.transition_model_version_stage(name=model_name, version=1, stage=\"Production\")"
   ]
  },
  {
   "cell_type": "code",
   "execution_count": 6,
   "id": "cf578355",
   "metadata": {},
   "outputs": [],
   "source": [
    "stage = 'Production'\n",
    "\n",
    "model_registry_path = f'models:/{model_name}/{stage}'\n",
    "production_model = mlflow.pyfunc.load_model(model_registry_path)"
   ]
  },
  {
   "cell_type": "code",
   "execution_count": 7,
   "id": "1c3bd7a2",
   "metadata": {},
   "outputs": [
    {
     "data": {
      "text/plain": [
       "'models:/churn_model/Production'"
      ]
     },
     "execution_count": 7,
     "metadata": {},
     "output_type": "execute_result"
    }
   ],
   "source": [
    "model_registry_path"
   ]
  },
  {
   "cell_type": "code",
   "execution_count": 17,
   "id": "4eb2e852",
   "metadata": {},
   "outputs": [],
   "source": [
    "preds = production_model.predict(X)"
   ]
  },
  {
   "cell_type": "code",
   "execution_count": 18,
   "id": "3b1900a9",
   "metadata": {},
   "outputs": [
    {
     "data": {
      "text/plain": [
       "0.5583333333333335"
      ]
     },
     "execution_count": 18,
     "metadata": {},
     "output_type": "execute_result"
    }
   ],
   "source": [
    "metrics.f1_score(y, preds)"
   ]
  },
  {
   "cell_type": "code",
   "execution_count": 34,
   "id": "4c0ba04e-ba3a-43a8-92c9-f4652170e4e9",
   "metadata": {},
   "outputs": [
    {
     "data": {
      "text/plain": [
       "'2.5.0'"
      ]
     },
     "execution_count": 34,
     "metadata": {},
     "output_type": "execute_result"
    }
   ],
   "source": [
    "mlflow.__version__"
   ]
  },
  {
   "cell_type": "code",
   "execution_count": null,
   "id": "3695cd4a-715d-475b-857b-00bf5382c713",
   "metadata": {},
   "outputs": [],
   "source": []
  }
 ],
 "metadata": {
  "kernelspec": {
   "display_name": "Python 3 (ipykernel)",
   "language": "python",
   "name": "python3"
  },
  "language_info": {
   "codemirror_mode": {
    "name": "ipython",
    "version": 3
   },
   "file_extension": ".py",
   "mimetype": "text/x-python",
   "name": "python",
   "nbconvert_exporter": "python",
   "pygments_lexer": "ipython3",
   "version": "3.9.12"
  }
 },
 "nbformat": 4,
 "nbformat_minor": 5
}
